{
 "cells": [
  {
   "cell_type": "code",
   "execution_count": 1,
   "metadata": {},
   "outputs": [
    {
     "output_type": "stream",
     "name": "stderr",
     "text": "Using TensorFlow backend.\n"
    }
   ],
   "source": [
    "import pandas as pd\n",
    "import numpy as np\n",
    "import cv2\n",
    "import keras"
   ]
  },
  {
   "cell_type": "code",
   "execution_count": 62,
   "metadata": {},
   "outputs": [
    {
     "data": {
      "text/plain": [
       "Index(['id', 'filename', 'feature', 'feature_resized'], dtype='object')"
      ]
     },
     "execution_count": 62,
     "metadata": {},
     "output_type": "execute_result"
    }
   ],
   "source": [
    "df_test.columns"
   ]
  },
  {
   "cell_type": "code",
   "execution_count": 2,
   "metadata": {},
   "outputs": [],
   "source": [
    "df_train = pd.read_csv('train.csv')\n",
    "df_test = pd.read_csv('test.csv')"
   ]
  },
  {
   "cell_type": "code",
   "execution_count": 3,
   "metadata": {},
   "outputs": [],
   "source": [
    "df_train['feature'] = df_train['filename'].apply(lambda x: cv2.imread(x))\n",
    "df_test['feature'] = df_test['filename'].apply(lambda x: cv2.imread(x))"
   ]
  },
  {
   "cell_type": "code",
   "execution_count": 4,
   "metadata": {},
   "outputs": [],
   "source": [
    "df_train['width'] = df_train['feature'].apply(lambda x: x.shape[0])\n",
    "df_train['lenth'] = df_train['feature'].apply(lambda x: x.shape[1])"
   ]
  },
  {
   "cell_type": "code",
   "execution_count": 5,
   "metadata": {},
   "outputs": [],
   "source": [
    "dim = ((np.min(df_train['width'].values)+np.max(df_train['width'].values))//2, (np.min(df_train['lenth'].values)+np.max(df_train['lenth'].values))//2)"
   ]
  },
  {
   "cell_type": "code",
   "execution_count": 6,
   "metadata": {},
   "outputs": [],
   "source": [
    "df_train['feature_resized'] = df_train['feature'].apply(lambda x: cv2.resize(x, dim))\n",
    "df_test['feature_resized'] = df_test['feature'].apply(lambda x: cv2.resize(x, dim))"
   ]
  },
  {
   "cell_type": "code",
   "execution_count": 7,
   "metadata": {},
   "outputs": [],
   "source": [
    "x_train = np.array(list(df_train['feature_resized'].values))\n",
    "x_test = np.array(list(df_test['feature_resized'].values))"
   ]
  },
  {
   "cell_type": "code",
   "execution_count": null,
   "metadata": {},
   "outputs": [],
   "source": []
  },
  {
   "cell_type": "code",
   "execution_count": 8,
   "metadata": {},
   "outputs": [],
   "source": [
    "y_train = np.array(pd.get_dummies(df_train['label']))"
   ]
  },
  {
   "cell_type": "code",
   "execution_count": 9,
   "metadata": {},
   "outputs": [
    {
     "output_type": "execute_result",
     "data": {
      "text/plain": "array([[0, 0, 1, 0],\n       [0, 0, 0, 1],\n       [0, 0, 0, 1],\n       ...,\n       [1, 0, 0, 0],\n       [0, 1, 0, 0],\n       [1, 0, 0, 0]], dtype=uint8)"
     },
     "metadata": {},
     "execution_count": 9
    }
   ],
   "source": [
    "y_train"
   ]
  },
  {
   "cell_type": "code",
   "execution_count": 10,
   "metadata": {},
   "outputs": [],
   "source": [
    "x_train = x_train/255"
   ]
  },
  {
   "cell_type": "code",
   "execution_count": null,
   "metadata": {},
   "outputs": [],
   "source": [
    "x_test = x_test/255"
   ]
  },
  {
   "cell_type": "code",
   "execution_count": 79,
   "metadata": {},
   "outputs": [
    {
     "data": {
      "text/plain": [
       "array([[0, 0, 1, 0],\n",
       "       [0, 0, 0, 1],\n",
       "       [0, 0, 0, 1],\n",
       "       ...,\n",
       "       [1, 0, 0, 0],\n",
       "       [0, 1, 0, 0],\n",
       "       [1, 0, 0, 0]], dtype=uint8)"
      ]
     },
     "execution_count": 79,
     "metadata": {},
     "output_type": "execute_result"
    }
   ],
   "source": [
    "y_train"
   ]
  },
  {
   "cell_type": "markdown",
   "metadata": {},
   "source": [
    "## CNN"
   ]
  },
  {
   "cell_type": "code",
   "execution_count": 85,
   "metadata": {},
   "outputs": [
    {
     "data": {
      "text/plain": [
       "bacterial    350\n",
       "viral        350\n",
       "normal       350\n",
       "covid         77\n",
       "Name: label, dtype: int64"
      ]
     },
     "execution_count": 85,
     "metadata": {},
     "output_type": "execute_result"
    }
   ],
   "source": [
    "df_train['label'].value_counts()"
   ]
  },
  {
   "cell_type": "code",
   "execution_count": 44,
   "metadata": {},
   "outputs": [
    {
     "data": {
      "text/plain": [
       "array([[0, 0, 1, 0],\n",
       "       [0, 0, 0, 1],\n",
       "       [0, 0, 0, 1],\n",
       "       ...,\n",
       "       [1, 0, 0, 0],\n",
       "       [0, 1, 0, 0],\n",
       "       [1, 0, 0, 0]], dtype=uint8)"
      ]
     },
     "execution_count": 44,
     "metadata": {},
     "output_type": "execute_result"
    }
   ],
   "source": [
    "y_train"
   ]
  },
  {
   "cell_type": "code",
   "execution_count": 43,
   "metadata": {},
   "outputs": [
    {
     "data": {
      "text/plain": [
       "array([False, False, False,  True])"
      ]
     },
     "execution_count": 43,
     "metadata": {},
     "output_type": "execute_result"
    }
   ],
   "source": [
    "y_train[1] == 1"
   ]
  },
  {
   "cell_type": "code",
   "execution_count": null,
   "metadata": {},
   "outputs": [],
   "source": [
    "# metric\n",
    "def mean_pred(y_true, y_pred):\n",
    "    num_covid = len(y)\n",
    "    return np.sum(y_pred == y_true)/len(y_true)"
   ]
  },
  {
   "cell_type": "code",
   "execution_count": 28,
   "metadata": {},
   "outputs": [],
   "source": [
    "from keras.models import Sequential\n",
    "from keras.layers import Dense, Conv2D, MaxPooling2D, Flatten\n",
    "input_shape = (178, 88, 3)\n",
    "num_classes = 4\n",
    "cnn = Sequential()\n",
    "cnn.add(Conv2D(32, kernel_size=(3, 3),\n",
    "                 activation='relu',\n",
    "                 input_shape=input_shape))\n",
    "cnn.add(MaxPooling2D(pool_size=(2, 2)))\n",
    "cnn.add(Conv2D(32, (3, 3), activation='relu'))\n",
    "cnn.add(MaxPooling2D(pool_size=(2, 2)))\n",
    "cnn.add(Flatten())\n",
    "cnn.add(Dense(64, activation='relu'))\n",
    "cnn.add(Dense(num_classes, activation='softmax'))"
   ]
  },
  {
   "cell_type": "code",
   "execution_count": 51,
   "metadata": {},
   "outputs": [
    {
     "name": "stdout",
     "output_type": "stream",
     "text": [
      "Train on 1014 samples, validate on 113 samples\n",
      "Epoch 1/32\n",
      "1014/1014 [==============================] - 11s 11ms/step - loss: 2.2443 - accuracy: 0.5868 - val_loss: 1.1404 - val_accuracy: 0.5133\n",
      "Epoch 2/32\n",
      "1014/1014 [==============================] - 13s 12ms/step - loss: 0.5338 - accuracy: 0.7830 - val_loss: 1.1306 - val_accuracy: 0.6372\n",
      "Epoch 3/32\n",
      "1014/1014 [==============================] - 10s 10ms/step - loss: 0.4394 - accuracy: 0.8540 - val_loss: 1.0343 - val_accuracy: 0.6903\n",
      "Epoch 4/32\n",
      "1014/1014 [==============================] - 9s 9ms/step - loss: 0.3149 - accuracy: 0.8964 - val_loss: 1.0584 - val_accuracy: 0.6283\n",
      "Epoch 5/32\n",
      "1014/1014 [==============================] - 9s 9ms/step - loss: 0.2452 - accuracy: 0.9310 - val_loss: 1.0035 - val_accuracy: 0.6195\n",
      "Epoch 6/32\n",
      "1014/1014 [==============================] - 9s 9ms/step - loss: 0.2076 - accuracy: 0.9507 - val_loss: 1.1265 - val_accuracy: 0.6903\n",
      "Epoch 7/32\n",
      "1014/1014 [==============================] - 12s 11ms/step - loss: 0.1694 - accuracy: 0.9625 - val_loss: 1.0760 - val_accuracy: 0.6460\n",
      "Epoch 8/32\n",
      "1014/1014 [==============================] - 13s 13ms/step - loss: 0.1527 - accuracy: 0.9536 - val_loss: 1.1178 - val_accuracy: 0.6549\n",
      "Epoch 9/32\n",
      "1014/1014 [==============================] - 13s 12ms/step - loss: 0.1356 - accuracy: 0.9655 - val_loss: 1.1464 - val_accuracy: 0.6460\n",
      "Epoch 10/32\n",
      "1014/1014 [==============================] - 13s 13ms/step - loss: 0.1274 - accuracy: 0.9704 - val_loss: 1.1657 - val_accuracy: 0.7080\n",
      "Epoch 11/32\n",
      "1014/1014 [==============================] - 13s 13ms/step - loss: 0.1138 - accuracy: 0.9744 - val_loss: 1.2042 - val_accuracy: 0.6637\n",
      "Epoch 12/32\n",
      "1014/1014 [==============================] - 13s 13ms/step - loss: 0.1113 - accuracy: 0.9744 - val_loss: 1.2137 - val_accuracy: 0.6372\n",
      "Epoch 13/32\n",
      "1014/1014 [==============================] - 12s 12ms/step - loss: 0.1170 - accuracy: 0.9704 - val_loss: 1.2443 - val_accuracy: 0.6726\n",
      "Epoch 14/32\n",
      "1014/1014 [==============================] - 13s 13ms/step - loss: 0.1093 - accuracy: 0.9744 - val_loss: 1.2980 - val_accuracy: 0.6726\n",
      "Epoch 15/32\n",
      "1014/1014 [==============================] - 14s 14ms/step - loss: 0.1020 - accuracy: 0.9813 - val_loss: 1.2675 - val_accuracy: 0.6814\n",
      "Epoch 16/32\n",
      "1014/1014 [==============================] - 14s 14ms/step - loss: 0.0904 - accuracy: 0.9793 - val_loss: 1.3712 - val_accuracy: 0.6283\n",
      "Epoch 17/32\n",
      "1014/1014 [==============================] - 14s 14ms/step - loss: 0.0841 - accuracy: 0.9842 - val_loss: 1.3292 - val_accuracy: 0.6991\n",
      "Epoch 18/32\n",
      "1014/1014 [==============================] - 11s 11ms/step - loss: 0.0708 - accuracy: 0.9872 - val_loss: 1.3917 - val_accuracy: 0.7080\n",
      "Epoch 19/32\n",
      "1014/1014 [==============================] - 11s 11ms/step - loss: 0.0703 - accuracy: 0.9892 - val_loss: 1.3878 - val_accuracy: 0.6637\n",
      "Epoch 20/32\n",
      "1014/1014 [==============================] - 13s 13ms/step - loss: 0.0697 - accuracy: 0.9862 - val_loss: 1.4712 - val_accuracy: 0.6372\n",
      "Epoch 21/32\n",
      "1014/1014 [==============================] - 11s 11ms/step - loss: 0.0559 - accuracy: 0.9901 - val_loss: 1.4688 - val_accuracy: 0.6460\n",
      "Epoch 22/32\n",
      "1014/1014 [==============================] - 11s 11ms/step - loss: 0.0519 - accuracy: 0.9941 - val_loss: 1.4499 - val_accuracy: 0.6814\n",
      "Epoch 23/32\n",
      "1014/1014 [==============================] - 13s 13ms/step - loss: 0.0483 - accuracy: 0.9941 - val_loss: 1.4932 - val_accuracy: 0.6549\n",
      "Epoch 24/32\n",
      "1014/1014 [==============================] - 12s 12ms/step - loss: 0.0460 - accuracy: 0.9931 - val_loss: 1.5253 - val_accuracy: 0.6372\n",
      "Epoch 25/32\n",
      "1014/1014 [==============================] - 15s 15ms/step - loss: 0.0403 - accuracy: 0.9980 - val_loss: 1.5318 - val_accuracy: 0.6814\n",
      "Epoch 26/32\n",
      "1014/1014 [==============================] - 15s 15ms/step - loss: 0.0428 - accuracy: 0.9990 - val_loss: 1.6396 - val_accuracy: 0.6195\n",
      "Epoch 27/32\n",
      "1014/1014 [==============================] - 13s 13ms/step - loss: 0.0464 - accuracy: 0.9970 - val_loss: 1.5582 - val_accuracy: 0.6726\n",
      "Epoch 28/32\n",
      "1014/1014 [==============================] - 13s 13ms/step - loss: 0.0560 - accuracy: 0.9892 - val_loss: 1.5364 - val_accuracy: 0.6814\n",
      "Epoch 29/32\n",
      "1014/1014 [==============================] - 17s 17ms/step - loss: 0.0438 - accuracy: 0.9961 - val_loss: 1.6230 - val_accuracy: 0.6549\n",
      "Epoch 30/32\n",
      "1014/1014 [==============================] - 13s 13ms/step - loss: 0.0379 - accuracy: 0.9970 - val_loss: 1.6523 - val_accuracy: 0.6814\n",
      "Epoch 31/32\n",
      "1014/1014 [==============================] - 13s 13ms/step - loss: 0.0328 - accuracy: 0.9990 - val_loss: 1.6789 - val_accuracy: 0.6372\n",
      "Epoch 32/32\n",
      "1014/1014 [==============================] - 13s 13ms/step - loss: 0.0266 - accuracy: 0.9980 - val_loss: 1.6852 - val_accuracy: 0.6637\n"
     ]
    }
   ],
   "source": [
    "cnn.compile(\"adam\", \"categorical_crossentropy\", metrics=['accuracy'])\n",
    "history_cnn = cnn.fit(x_train, y_train,\n",
    "                      batch_size=128, epochs=32, verbose=1, validation_split=.1)"
   ]
  },
  {
   "cell_type": "code",
   "execution_count": 60,
   "metadata": {},
   "outputs": [],
   "source": [
    "import matplotlib.pyplot as plt\n",
    "def plot_history(logger):\n",
    "    df = pd.DataFrame(logger.history)\n",
    "    df[['accuracy', 'val_accuracy']].plot()\n",
    "    plt.ylabel(\"accuracy\")\n",
    "    df[['loss', 'val_loss']].plot(linestyle='--', ax=plt.twinx())\n",
    "    plt.ylabel(\"loss\")"
   ]
  },
  {
   "cell_type": "code",
   "execution_count": 61,
   "metadata": {},
   "outputs": [
    {
     "data": {
      "image/png": "[encoded data removed]",
      "text/plain": [
       "<Figure size 432x288 with 2 Axes>"
      ]
     },
     "metadata": {
      "needs_background": "light"
     },
     "output_type": "display_data"
    }
   ],
   "source": [
    "plot_history(history_cnn)"
   ]
  },
  {
   "cell_type": "code",
   "execution_count": 65,
   "metadata": {},
   "outputs": [],
   "source": [
    "prediction = cnn.predict_classes(x_test)"
   ]
  },
  {
   "cell_type": "code",
   "execution_count": 66,
   "metadata": {},
   "outputs": [],
   "source": [
    "output = pd.DataFrame({'Id': df_test['id'], 'prediction': prediction})"
   ]
  },
  {
   "cell_type": "code",
   "execution_count": 67,
   "metadata": {},
   "outputs": [],
   "source": [
    "label_map = {0: 'bacterial', 1: 'covid', 2: 'normal', 3: 'viral'}"
   ]
  },
  {
   "cell_type": "code",
   "execution_count": 69,
   "metadata": {},
   "outputs": [],
   "source": [
    "output['label'] = output['prediction'].apply(lambda x: label_map[x])"
   ]
  },
  {
   "cell_type": "code",
   "execution_count": 71,
   "metadata": {},
   "outputs": [],
   "source": [
    "output.drop(columns = 'prediction', inplace = True)"
   ]
  },
  {
   "cell_type": "code",
   "execution_count": 76,
   "metadata": {},
   "outputs": [],
   "source": [
    "output.to_csv('cnn_prediction.csv', index = False)"
   ]
  },
  {
   "cell_type": "markdown",
   "metadata": {},
   "source": [
    "## CNN with dropout"
   ]
  },
  {
   "cell_type": "code",
   "execution_count": 88,
   "metadata": {},
   "outputs": [],
   "source": [
    "from keras.models import Sequential\n",
    "from keras.layers import Dense, Conv2D, MaxPooling2D, Flatten, Dropout\n",
    "input_shape = (178, 88, 3)\n",
    "num_classes = 4\n",
    "cnn_dropout = Sequential()\n",
    "cnn_dropout.add(Conv2D(32, kernel_size=(3, 3),\n",
    "                 activation='relu',\n",
    "                 input_shape=input_shape))\n",
    "cnn_dropout.add(MaxPooling2D(pool_size=(2, 2)))\n",
    "cnn_dropout.add(Dropout(0.5))\n",
    "cnn_dropout.add(Conv2D(32, (3, 3), activation='relu'))\n",
    "cnn_dropout.add(MaxPooling2D(pool_size=(2, 2)))\n",
    "cnn_dropout.add(Flatten())\n",
    "cnn_dropout.add(Dense(64, activation='relu'))\n",
    "cnn_dropout.add(Dense(num_classes, activation='softmax'))"
   ]
  },
  {
   "cell_type": "code",
   "execution_count": 89,
   "metadata": {},
   "outputs": [
    {
     "name": "stdout",
     "output_type": "stream",
     "text": [
      "Train on 1014 samples, validate on 113 samples\n",
      "Epoch 1/32\n",
      "1014/1014 [==============================] - 11s 11ms/step - loss: 2.1958 - accuracy: 0.3047 - val_loss: 1.3494 - val_accuracy: 0.4779\n",
      "Epoch 2/32\n",
      "1014/1014 [==============================] - 13s 13ms/step - loss: 1.3278 - accuracy: 0.3836 - val_loss: 1.3866 - val_accuracy: 0.3097\n",
      "Epoch 3/32\n",
      "1014/1014 [==============================] - 13s 13ms/step - loss: 1.3128 - accuracy: 0.3383 - val_loss: 1.3850 - val_accuracy: 0.3097\n",
      "Epoch 4/32\n",
      "1014/1014 [==============================] - 13s 13ms/step - loss: 1.2583 - accuracy: 0.3304 - val_loss: 1.3810 - val_accuracy: 0.4071\n",
      "Epoch 5/32\n",
      "1014/1014 [==============================] - 14s 14ms/step - loss: 1.1908 - accuracy: 0.5138 - val_loss: 1.3622 - val_accuracy: 0.5310\n",
      "Epoch 6/32\n",
      "1014/1014 [==============================] - 13s 13ms/step - loss: 1.0967 - accuracy: 0.5513 - val_loss: 1.3104 - val_accuracy: 0.5133\n",
      "Epoch 7/32\n",
      "1014/1014 [==============================] - 15s 15ms/step - loss: 0.9865 - accuracy: 0.5868 - val_loss: 1.2121 - val_accuracy: 0.4779\n",
      "Epoch 8/32\n",
      "1014/1014 [==============================] - 11s 11ms/step - loss: 0.9137 - accuracy: 0.5819 - val_loss: 1.1503 - val_accuracy: 0.5841\n",
      "Epoch 9/32\n",
      "1014/1014 [==============================] - 12s 12ms/step - loss: 0.8487 - accuracy: 0.6223 - val_loss: 1.1006 - val_accuracy: 0.5929\n",
      "Epoch 10/32\n",
      "1014/1014 [==============================] - 12s 12ms/step - loss: 0.8263 - accuracy: 0.6371 - val_loss: 1.0843 - val_accuracy: 0.6018\n",
      "Epoch 11/32\n",
      "1014/1014 [==============================] - 12s 12ms/step - loss: 0.9133 - accuracy: 0.5848 - val_loss: 1.1572 - val_accuracy: 0.6283\n",
      "Epoch 12/32\n",
      "1014/1014 [==============================] - 12s 12ms/step - loss: 0.8543 - accuracy: 0.5996 - val_loss: 1.1267 - val_accuracy: 0.5841\n",
      "Epoch 13/32\n",
      "1014/1014 [==============================] - 12s 12ms/step - loss: 0.8030 - accuracy: 0.6607 - val_loss: 1.1152 - val_accuracy: 0.5841\n",
      "Epoch 14/32\n",
      "1014/1014 [==============================] - 12s 12ms/step - loss: 0.7677 - accuracy: 0.6637 - val_loss: 1.0268 - val_accuracy: 0.6018\n",
      "Epoch 15/32\n",
      "1014/1014 [==============================] - 12s 12ms/step - loss: 0.7303 - accuracy: 0.6607 - val_loss: 1.0056 - val_accuracy: 0.5752\n",
      "Epoch 16/32\n",
      "1014/1014 [==============================] - 13s 13ms/step - loss: 0.7006 - accuracy: 0.6874 - val_loss: 1.0075 - val_accuracy: 0.5752\n",
      "Epoch 17/32\n",
      "1014/1014 [==============================] - 12s 12ms/step - loss: 0.6771 - accuracy: 0.7209 - val_loss: 0.9323 - val_accuracy: 0.6106\n",
      "Epoch 18/32\n",
      "1014/1014 [==============================] - 13s 12ms/step - loss: 0.6611 - accuracy: 0.7278 - val_loss: 0.9275 - val_accuracy: 0.6018\n",
      "Epoch 19/32\n",
      "1014/1014 [==============================] - 12s 12ms/step - loss: 0.6379 - accuracy: 0.7041 - val_loss: 0.8930 - val_accuracy: 0.6106\n",
      "Epoch 20/32\n",
      "1014/1014 [==============================] - 13s 13ms/step - loss: 0.6092 - accuracy: 0.7229 - val_loss: 0.8762 - val_accuracy: 0.6549\n",
      "Epoch 21/32\n",
      "1014/1014 [==============================] - 15s 14ms/step - loss: 0.6161 - accuracy: 0.7278 - val_loss: 0.8647 - val_accuracy: 0.6372\n",
      "Epoch 22/32\n",
      "1014/1014 [==============================] - 13s 12ms/step - loss: 0.6092 - accuracy: 0.7465 - val_loss: 0.8615 - val_accuracy: 0.6549\n",
      "Epoch 23/32\n",
      "1014/1014 [==============================] - 12s 12ms/step - loss: 0.5845 - accuracy: 0.7525 - val_loss: 0.8633 - val_accuracy: 0.6283\n",
      "Epoch 24/32\n",
      "1014/1014 [==============================] - 13s 13ms/step - loss: 0.5540 - accuracy: 0.7584 - val_loss: 0.8904 - val_accuracy: 0.6283\n",
      "Epoch 25/32\n",
      "1014/1014 [==============================] - 14s 14ms/step - loss: 0.5356 - accuracy: 0.7682 - val_loss: 0.8113 - val_accuracy: 0.6195\n",
      "Epoch 26/32\n",
      "1014/1014 [==============================] - 13s 13ms/step - loss: 0.5332 - accuracy: 0.7613 - val_loss: 0.8356 - val_accuracy: 0.6372\n",
      "Epoch 27/32\n",
      "1014/1014 [==============================] - 14s 14ms/step - loss: 0.4940 - accuracy: 0.7850 - val_loss: 0.7983 - val_accuracy: 0.6814\n",
      "Epoch 28/32\n",
      "1014/1014 [==============================] - 13s 13ms/step - loss: 0.5019 - accuracy: 0.7939 - val_loss: 0.8147 - val_accuracy: 0.6726\n",
      "Epoch 29/32\n",
      "1014/1014 [==============================] - 13s 13ms/step - loss: 0.4632 - accuracy: 0.8156 - val_loss: 0.7788 - val_accuracy: 0.6549\n",
      "Epoch 30/32\n",
      "1014/1014 [==============================] - 13s 13ms/step - loss: 0.4520 - accuracy: 0.7949 - val_loss: 0.7847 - val_accuracy: 0.6195\n",
      "Epoch 31/32\n",
      "1014/1014 [==============================] - 16s 16ms/step - loss: 0.4330 - accuracy: 0.8274 - val_loss: 0.7991 - val_accuracy: 0.6372\n",
      "Epoch 32/32\n",
      "1014/1014 [==============================] - 13s 13ms/step - loss: 0.4261 - accuracy: 0.8176 - val_loss: 0.8109 - val_accuracy: 0.6106\n"
     ]
    }
   ],
   "source": [
    "cnn_dropout.compile(\"adam\", \"categorical_crossentropy\", metrics=['accuracy'])\n",
    "history_cnn_dropout = cnn_dropout.fit(x_train, y_train,\n",
    "                      batch_size=128, epochs=32, verbose=1, validation_split=.1)"
   ]
  },
  {
   "cell_type": "code",
   "execution_count": 93,
   "metadata": {},
   "outputs": [],
   "source": [
    "output_dropout = pd.DataFrame({'Id': df_test['id'], 'prediction': cnn_dropout.predict_classes(x_test)})\n",
    "output_dropout['label'] = output_dropout['prediction'].apply(lambda x: label_map[x])\n",
    "output_dropout.drop(columns = 'prediction', inplace = True)\n",
    "output_dropout.to_csv('cnn_dropout_prediction.csv', index = False)"
   ]
  },
  {
   "cell_type": "code",
   "execution_count": null,
   "metadata": {},
   "outputs": [],
   "source": [
    "output_dropout"
   ]
  },
  {
   "cell_type": "markdown",
   "metadata": {},
   "source": [
    "## Model 2 ResNet"
   ]
  },
  {
   "cell_type": "code",
   "execution_count": 86,
   "metadata": {},
   "outputs": [],
   "source": [
    "from keras.layers import Input, Conv2D, MaxPooling2D, Flatten, add\n",
    "from keras.models import Model\n",
    "\n",
    "num_classes = 10\n",
    "inputs = Input(shape=input_shape)\n",
    "conv1_1 = Conv2D(32, kernel_size=(3, 3),\n",
    "                 activation='relu', padding='same')(inputs)\n",
    "conv1_2 = Conv2D(32, kernel_size=(3, 3),\n",
    "                 activation='relu', padding='same')(conv1_1)\n",
    "conv1_3 = Conv2D(32, kernel_size=(3, 3),\n",
    "                 activation='relu', padding='same')(conv1_2)\n",
    "skip1 = add([conv1_1, conv1_3])\n",
    "conv1_4 = Conv2D(32, kernel_size=(3, 3),\n",
    "                 activation='relu', padding='same')(skip1)\n",
    "maxpool1 = MaxPooling2D(pool_size=(2, 2))(conv1_4)\n",
    "conv2_1 = Conv2D(32, (3, 3), activation='relu', padding='same')(maxpool1)\n",
    "conv2_2 = Conv2D(32, (3, 3), activation='relu', padding='same')(conv2_1)\n",
    "skip1 = add([maxpool1, conv2_2])\n",
    "conv2_3 = Conv2D(32, (3, 3), activation='relu', padding='same')(skip1)\n",
    "maxpool2 = MaxPooling2D(pool_size=(2, 2))(conv2_3)\n",
    "flat = Flatten()(maxpool2)\n",
    "dense = Dense(64, activation='relu')(flat)\n",
    "predictions = Dense(num_classes, activation='softmax')(dense)\n",
    "\n",
    "model = Model(inputs=inputs, outputs=predictions)\n",
    "flat = Flatten()(maxpool2)\n",
    "dense = Dense(64, activation='relu')(flat)\n",
    "predictions = Dense(num_classes, activation='softmax')(dense)\n",
    "\n",
    "model2 = Model(inputs=inputs, outputs=predictions)"
   ]
  },
  {
   "cell_type": "code",
   "execution_count": 87,
   "metadata": {},
   "outputs": [
    {
     "name": "stdout",
     "output_type": "stream",
     "text": [
      "Train on 1014 samples, validate on 113 samples\n",
      "Epoch 1/32\n",
      "1014/1014 [==============================] - 11s 11ms/step - loss: 0.0246 - accuracy: 1.0000 - val_loss: 1.6976 - val_accuracy: 0.6549\n",
      "Epoch 2/32\n",
      "1014/1014 [==============================] - 10s 10ms/step - loss: 0.0232 - accuracy: 1.0000 - val_loss: 1.6812 - val_accuracy: 0.6637\n",
      "Epoch 3/32\n",
      "1014/1014 [==============================] - 14s 14ms/step - loss: 0.0228 - accuracy: 0.9990 - val_loss: 1.7131 - val_accuracy: 0.6726\n",
      "Epoch 4/32\n",
      "1014/1014 [==============================] - 11s 11ms/step - loss: 0.0210 - accuracy: 1.0000 - val_loss: 1.7375 - val_accuracy: 0.6814\n",
      "Epoch 5/32\n",
      "1014/1014 [==============================] - 11s 11ms/step - loss: 0.0193 - accuracy: 0.9990 - val_loss: 1.7645 - val_accuracy: 0.6637\n",
      "Epoch 6/32\n",
      "1014/1014 [==============================] - 11s 11ms/step - loss: 0.0190 - accuracy: 1.0000 - val_loss: 1.7660 - val_accuracy: 0.6903\n",
      "Epoch 7/32\n",
      "1014/1014 [==============================] - 12s 11ms/step - loss: 0.0186 - accuracy: 0.9990 - val_loss: 1.7907 - val_accuracy: 0.6814\n",
      "Epoch 8/32\n",
      "1014/1014 [==============================] - 12s 12ms/step - loss: 0.0178 - accuracy: 1.0000 - val_loss: 1.7901 - val_accuracy: 0.6726\n",
      "Epoch 9/32\n",
      "1014/1014 [==============================] - 11s 11ms/step - loss: 0.0152 - accuracy: 0.9990 - val_loss: 1.8151 - val_accuracy: 0.6549\n",
      "Epoch 10/32\n",
      "1014/1014 [==============================] - 11s 10ms/step - loss: 0.0144 - accuracy: 1.0000 - val_loss: 1.8328 - val_accuracy: 0.6726\n",
      "Epoch 11/32\n",
      "1014/1014 [==============================] - 11s 10ms/step - loss: 0.0144 - accuracy: 1.0000 - val_loss: 1.8267 - val_accuracy: 0.6637\n",
      "Epoch 12/32\n",
      "1014/1014 [==============================] - 11s 11ms/step - loss: 0.0137 - accuracy: 0.9990 - val_loss: 1.8648 - val_accuracy: 0.6549\n",
      "Epoch 13/32\n",
      "1014/1014 [==============================] - 10s 10ms/step - loss: 0.0128 - accuracy: 1.0000 - val_loss: 1.8582 - val_accuracy: 0.6549\n",
      "Epoch 14/32\n",
      "1014/1014 [==============================] - 11s 11ms/step - loss: 0.0121 - accuracy: 1.0000 - val_loss: 1.8782 - val_accuracy: 0.6460\n",
      "Epoch 15/32\n",
      "1014/1014 [==============================] - 11s 10ms/step - loss: 0.0120 - accuracy: 1.0000 - val_loss: 1.8827 - val_accuracy: 0.6726\n",
      "Epoch 16/32\n",
      "1014/1014 [==============================] - 11s 11ms/step - loss: 0.0111 - accuracy: 1.0000 - val_loss: 1.9112 - val_accuracy: 0.6814\n",
      "Epoch 17/32\n",
      "1014/1014 [==============================] - 11s 11ms/step - loss: 0.0103 - accuracy: 1.0000 - val_loss: 1.9347 - val_accuracy: 0.6637\n",
      "Epoch 18/32\n",
      "1014/1014 [==============================] - 11s 11ms/step - loss: 0.0106 - accuracy: 1.0000 - val_loss: 1.9336 - val_accuracy: 0.6460\n",
      "Epoch 19/32\n",
      "1014/1014 [==============================] - 11s 10ms/step - loss: 0.0096 - accuracy: 1.0000 - val_loss: 1.9601 - val_accuracy: 0.6372\n",
      "Epoch 20/32\n",
      "1014/1014 [==============================] - 11s 11ms/step - loss: 0.0091 - accuracy: 1.0000 - val_loss: 1.9929 - val_accuracy: 0.6460\n",
      "Epoch 21/32\n",
      "1014/1014 [==============================] - 11s 10ms/step - loss: 0.0093 - accuracy: 1.0000 - val_loss: 1.9772 - val_accuracy: 0.6372\n",
      "Epoch 22/32\n",
      "1014/1014 [==============================] - 12s 12ms/step - loss: 0.0081 - accuracy: 1.0000 - val_loss: 1.9869 - val_accuracy: 0.6372\n",
      "Epoch 23/32\n",
      "1014/1014 [==============================] - 12s 12ms/step - loss: 0.0077 - accuracy: 1.0000 - val_loss: 2.0232 - val_accuracy: 0.6372\n",
      "Epoch 24/32\n",
      "1014/1014 [==============================] - 10s 10ms/step - loss: 0.0080 - accuracy: 1.0000 - val_loss: 2.0334 - val_accuracy: 0.6460\n",
      "Epoch 25/32\n",
      "1014/1014 [==============================] - 10s 10ms/step - loss: 0.0077 - accuracy: 1.0000 - val_loss: 2.0456 - val_accuracy: 0.6283\n",
      "Epoch 26/32\n",
      "1014/1014 [==============================] - 11s 10ms/step - loss: 0.0070 - accuracy: 1.0000 - val_loss: 2.0372 - val_accuracy: 0.6372\n",
      "Epoch 27/32\n",
      "1014/1014 [==============================] - 10s 10ms/step - loss: 0.0066 - accuracy: 1.0000 - val_loss: 2.0529 - val_accuracy: 0.6372\n",
      "Epoch 28/32\n",
      "1014/1014 [==============================] - 10s 10ms/step - loss: 0.0067 - accuracy: 1.0000 - val_loss: 2.0495 - val_accuracy: 0.6460\n",
      "Epoch 29/32\n",
      "1014/1014 [==============================] - 11s 11ms/step - loss: 0.0065 - accuracy: 1.0000 - val_loss: 2.0577 - val_accuracy: 0.6460\n",
      "Epoch 30/32\n",
      "1014/1014 [==============================] - 11s 10ms/step - loss: 0.0062 - accuracy: 1.0000 - val_loss: 2.0900 - val_accuracy: 0.6460\n",
      "Epoch 31/32\n",
      "1014/1014 [==============================] - 13s 13ms/step - loss: 0.0056 - accuracy: 1.0000 - val_loss: 2.1058 - val_accuracy: 0.6283\n",
      "Epoch 32/32\n",
      "1014/1014 [==============================] - 11s 11ms/step - loss: 0.0054 - accuracy: 1.0000 - val_loss: 2.0788 - val_accuracy: 0.6372\n"
     ]
    }
   ],
   "source": [
    "model2.compile(\"adam\", \"categorical_crossentropy\", metrics=['accuracy'])\n",
    "history_model2 = cnn.fit(x_train, y_train,\n",
    "                      batch_size=128, epochs=32, verbose=1, validation_split=.1)"
   ]
  },
  {
   "cell_type": "code",
   "execution_count": null,
   "metadata": {},
   "outputs": [],
   "source": []
  }
 ],
 "metadata": {
  "kernelspec": {
   "display_name": "Python 3",
   "language": "python",
   "name": "python3"
  },
  "language_info": {
   "codemirror_mode": {
    "name": "ipython",
    "version": 3
   },
   "file_extension": ".py",
   "mimetype": "text/x-python",
   "name": "python",
   "nbconvert_exporter": "python",
   "pygments_lexer": "ipython3",
   "version": "3.7.3-final"
  }
 },
 "nbformat": 4,
 "nbformat_minor": 4
}